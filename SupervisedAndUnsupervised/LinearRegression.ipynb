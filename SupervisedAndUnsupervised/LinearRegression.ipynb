{
  "nbformat": 4,
  "nbformat_minor": 0,
  "metadata": {
    "colab": {
      "provenance": [],
      "authorship_tag": "ABX9TyPbZ1QR45he8X0eMUljLiX4",
      "include_colab_link": true
    },
    "kernelspec": {
      "name": "python3",
      "display_name": "Python 3"
    },
    "language_info": {
      "name": "python"
    }
  },
  "cells": [
    {
      "cell_type": "markdown",
      "metadata": {
        "id": "view-in-github",
        "colab_type": "text"
      },
      "source": [
        "<a href=\"https://colab.research.google.com/github/sanket0708/AI_ML_Codes/blob/main/SupervisedAndUnsupervised/LinearRegression.ipynb\" target=\"_parent\"><img src=\"https://colab.research.google.com/assets/colab-badge.svg\" alt=\"Open In Colab\"/></a>"
      ]
    },
    {
      "cell_type": "code",
      "execution_count": 27,
      "metadata": {
        "id": "ZvsXpe8uWgiY"
      },
      "outputs": [],
      "source": [
        "import numpy as np\n",
        "import matplotlib.pyplot as plt"
      ]
    },
    {
      "cell_type": "code",
      "source": [
        "x_train = np.array([1.0,2.0])\n",
        "y_train = np.array([300.0,500.0])\n",
        "print(f\"x_train = {x_train}\")\n",
        "print(f\"y_train = {y_train}\")"
      ],
      "metadata": {
        "colab": {
          "base_uri": "https://localhost:8080/"
        },
        "id": "_4K9LpuhW1Mj",
        "outputId": "f0264878-9c88-46ac-e968-9a66efedebc5"
      },
      "execution_count": 28,
      "outputs": [
        {
          "output_type": "stream",
          "name": "stdout",
          "text": [
            "x_train = [1. 2.]\n",
            "y_train = [300. 500.]\n"
          ]
        }
      ]
    },
    {
      "cell_type": "code",
      "source": [
        "print(f\"x_train.shape: {x_train.shape}\")\n",
        "m = x_train.shape[0]\n",
        "print(f\"Number of training examples is: {m}\")"
      ],
      "metadata": {
        "colab": {
          "base_uri": "https://localhost:8080/"
        },
        "id": "zSYPFO6WXNDM",
        "outputId": "93e72e3e-56fb-4a86-9405-4e6d327fb982"
      },
      "execution_count": 29,
      "outputs": [
        {
          "output_type": "stream",
          "name": "stdout",
          "text": [
            "x_train.shape: (2,)\n",
            "Number of training examples is: 2\n"
          ]
        }
      ]
    },
    {
      "cell_type": "code",
      "source": [
        "m = len(x_train)\n",
        "print(m)"
      ],
      "metadata": {
        "colab": {
          "base_uri": "https://localhost:8080/"
        },
        "id": "Q_zTHvfGXRpT",
        "outputId": "6d4a180b-671c-4206-e126-8ab3d8fb9314"
      },
      "execution_count": 30,
      "outputs": [
        {
          "output_type": "stream",
          "name": "stdout",
          "text": [
            "2\n"
          ]
        }
      ]
    },
    {
      "cell_type": "code",
      "source": [
        "i = 1\n",
        "x_i = x_train[i]\n",
        "y_i = y_train[i]\n",
        "print(f\"(x^({i}), y^({i})) = ({x_i}, {y_i})\")"
      ],
      "metadata": {
        "colab": {
          "base_uri": "https://localhost:8080/"
        },
        "id": "QPiEDiHTXnvb",
        "outputId": "e0295694-c338-431b-f44e-c64628f7ecdf"
      },
      "execution_count": 31,
      "outputs": [
        {
          "output_type": "stream",
          "name": "stdout",
          "text": [
            "(x^(1), y^(1)) = (2.0, 500.0)\n"
          ]
        }
      ]
    },
    {
      "cell_type": "code",
      "source": [
        "plt.scatter(x_train,y_train,marker='x',c='r')\n",
        "plt.title('Housing prices')\n",
        "plt.ylabel('Price (in 1000s of dollars)')\n",
        "plt.xlabel('Size (1000 sqft)')\n",
        "plt.show()"
      ],
      "metadata": {
        "colab": {
          "base_uri": "https://localhost:8080/",
          "height": 472
        },
        "id": "QDNjhJAlX1uH",
        "outputId": "ccfaa3ad-95cc-48c3-a981-8bb3bad5c588"
      },
      "execution_count": 32,
      "outputs": [
        {
          "output_type": "display_data",
          "data": {
            "text/plain": [
              "<Figure size 640x480 with 1 Axes>"
            ],
            "image/png": "[encoded data removed]"
          },
          "metadata": {}
        }
      ]
    },
    {
      "cell_type": "markdown",
      "source": [
        "**Let's try to get a better intuition for this through the code blocks below. assume w=200 and b=100**\n"
      ],
      "metadata": {
        "id": "ou6J4iBTYdc1"
      }
    },
    {
      "cell_type": "code",
      "source": [
        "w = 200\n",
        "b = 100"
      ],
      "metadata": {
        "id": "C0DUHfcyYvZ_"
      },
      "execution_count": 33,
      "outputs": []
    },
    {
      "cell_type": "code",
      "source": [
        "def compute_model_output(x,w,b):\n",
        "  m = x.shape[0]\n",
        "  f_wb = np.zeros(m)\n",
        "  for i in range(m):\n",
        "    f_wb[i] = w*x[i]+b\n",
        "\n",
        "  return f_wb"
      ],
      "metadata": {
        "id": "zRmBFgvXYyZ3"
      },
      "execution_count": 34,
      "outputs": []
    },
    {
      "cell_type": "code",
      "source": [
        "tmp_f_wb = compute_model_output(x_train, w, b,)\n",
        "\n",
        "# Plot our model prediction\n",
        "plt.plot(x_train, tmp_f_wb, c='b',label='Our Prediction')\n",
        "\n",
        "# Plot the data points\n",
        "plt.scatter(x_train, y_train, marker='x', c='r',label='Actual Values')\n",
        "\n",
        "# Set the title\n",
        "plt.title(\"Housing Prices\")\n",
        "# Set the y-axis label\n",
        "plt.ylabel('Price (in 1000s of dollars)')\n",
        "# Set the x-axis label\n",
        "plt.xlabel('Size (1000 sqft)')\n",
        "plt.legend()\n",
        "plt.show()"
      ],
      "metadata": {
        "colab": {
          "base_uri": "https://localhost:8080/",
          "height": 472
        },
        "id": "E4GGOEiEZD2v",
        "outputId": "4d7193f8-46bc-47ef-8421-94f2697e34db"
      },
      "execution_count": 35,
      "outputs": [
        {
          "output_type": "display_data",
          "data": {
            "text/plain": [
              "<Figure size 640x480 with 1 Axes>"
            ],
            "image/png": "[encoded data removed]"
          },
          "metadata": {}
        }
      ]
    },
    {
      "cell_type": "markdown",
      "source": [
        "If we make w=100 and b=100 blue line will not fit our data as straight as shown above"
      ],
      "metadata": {
        "id": "OyzymQVqZvNy"
      }
    },
    {
      "cell_type": "code",
      "source": [
        "x_i = 1.2\n",
        "cost_100sqft = w*x_i+b\n",
        "print(f\"${cost_100sqft:.0f} thousand dollars\")"
      ],
      "metadata": {
        "colab": {
          "base_uri": "https://localhost:8080/"
        },
        "id": "foMERDYHZt8q",
        "outputId": "8000f62f-eb42-47f9-f88a-31156b07e601"
      },
      "execution_count": 36,
      "outputs": [
        {
          "output_type": "stream",
          "name": "stdout",
          "text": [
            "$340 thousand dollars\n"
          ]
        }
      ]
    },
    {
      "cell_type": "code",
      "source": [
        "def compute_cost(x,y,w,b):\n",
        "  m = x.shape[0]\n",
        "\n",
        "  cost_sum = 0\n",
        "  for i in range(m):\n",
        "    f_wb = w * x[i] + b\n",
        "    cost = (f_wb - y[i]) ** 2\n",
        "    cost_sum = cost_sum + cost\n",
        "  total_cost = (1/(2*m)) * cost_sum\n",
        "\n",
        "  return total_cost"
      ],
      "metadata": {
        "id": "Oy4vDmNUoVcs"
      },
      "execution_count": 39,
      "outputs": []
    },
    {
      "cell_type": "markdown",
      "source": [
        "# **Lets start gradient descent **\n"
      ],
      "metadata": {
        "id": "We2jUTlHplpN"
      }
    },
    {
      "cell_type": "code",
      "source": [
        "import math, copy\n",
        "import numpy as np\n",
        "import matplotlib.pyplot as plt"
      ],
      "metadata": {
        "id": "l9Wsmk4G8f_H"
      },
      "execution_count": 1,
      "outputs": []
    },
    {
      "cell_type": "code",
      "source": [
        "x_train = np.array([1.0, 2.0])\n",
        "y_train = np.array([300.0, 500.0])"
      ],
      "metadata": {
        "id": "-x07vZoR8gvJ"
      },
      "execution_count": 2,
      "outputs": []
    },
    {
      "cell_type": "code",
      "source": [
        "def compute_cost(x,y,w,b):\n",
        "  m = x.shape[0]\n",
        "\n",
        "  cost = 0\n",
        "  for i in range(m):\n",
        "    f_wb = w * x[i] + b\n",
        "    cost += (f_wb - y[i]) ** 2\n",
        "  total_cost = (1/(2*m)) * cost\n",
        "\n",
        "  return total_cost"
      ],
      "metadata": {
        "id": "B9sJ06_U8ktx"
      },
      "execution_count": 4,
      "outputs": []
    },
    {
      "cell_type": "code",
      "source": [
        "def compute_gradient(x,y,w,b):\n",
        "  m = x.shape[0]\n",
        "  dj_dw = 0\n",
        "  dj_db = 0\n",
        "\n",
        "  for i in range(m):\n",
        "    f_wb = w*x[i]+b\n",
        "    dj_dw_i = (f_wb-y[i])*x[i]\n",
        "    dj_db_i = f_wb-y[i]\n",
        "    dj_dw += dj_dw_i\n",
        "    dj_db += dj_db_i\n",
        "  dj_dw = dj_dw/m\n",
        "  dj_db = dj_db/m\n",
        "\n",
        "  return dj_dw,dj_db\n",
        ""
      ],
      "metadata": {
        "id": "kZcOLGpP9Fq6"
      },
      "execution_count": 5,
      "outputs": []
    },
    {
      "cell_type": "code",
      "source": [
        "def gradient_descent(x, y, w_in, b_in, alpha, num_iters, cost_function, gradient_function):\n",
        "    \"\"\"\n",
        "    Performs gradient descent to fit w,b. Updates w,b by taking\n",
        "    num_iters gradient steps with learning rate alpha\n",
        "\n",
        "    Args:\n",
        "      x (ndarray (m,))  : Data, m examples\n",
        "      y (ndarray (m,))  : target values\n",
        "      w_in,b_in (scalar): initial values of model parameters\n",
        "      alpha (float):     Learning rate\n",
        "      num_iters (int):   number of iterations to run gradient descent\n",
        "      cost_function:     function to call to produce cost\n",
        "      gradient_function: function to call to produce gradient\n",
        "\n",
        "    Returns:\n",
        "      w (scalar): Updated value of parameter after running gradient descent\n",
        "      b (scalar): Updated value of parameter after running gradient descent\n",
        "      J_history (List): History of cost values\n",
        "      p_history (list): History of parameters [w,b]\n",
        "      \"\"\"\n",
        "\n",
        "    # An array to store cost J and w's at each iteration primarily for graphing later\n",
        "    J_history = []\n",
        "    p_history = []\n",
        "    b = b_in\n",
        "    w = w_in\n",
        "\n",
        "    for i in range(num_iters):\n",
        "        # Calculate the gradient and update the parameters using gradient_function\n",
        "        dj_dw, dj_db = gradient_function(x, y, w , b)\n",
        "\n",
        "        # Update Parameters using equation (3) above\n",
        "        b = b - alpha * dj_db\n",
        "        w = w - alpha * dj_dw\n",
        "\n",
        "        # Save cost J at each iteration\n",
        "        if i<100000:      # prevent resource exhaustion\n",
        "            J_history.append( cost_function(x, y, w , b))\n",
        "            p_history.append([w,b])\n",
        "        # Print cost every at intervals 10 times or as many iterations if < 10\n",
        "        if i% math.ceil(num_iters/10) == 0:\n",
        "            print(f\"Iteration {i:4}: Cost {J_history[-1]:0.2e} \",\n",
        "                  f\"dj_dw: {dj_dw: 0.3e}, dj_db: {dj_db: 0.3e}  \",\n",
        "                  f\"w: {w: 0.3e}, b:{b: 0.5e}\")\n",
        "\n",
        "    return w, b, J_history, p_history #return w and J,w history for graphing"
      ],
      "metadata": {
        "id": "FCiZrwwV9ufx"
      },
      "execution_count": 8,
      "outputs": []
    },
    {
      "cell_type": "code",
      "source": [
        "# initialize parameters\n",
        "w_init = 0\n",
        "b_init = 0\n",
        "# some gradient descent settings\n",
        "iterations = 10000\n",
        "tmp_alpha = 1.0e-2\n",
        "# run gradient descent\n",
        "w_final, b_final, J_hist, p_hist = gradient_descent(x_train ,y_train, w_init, b_init, tmp_alpha,\n",
        "                                                    iterations, compute_cost, compute_gradient)\n",
        "print(f\"(w,b) found by gradient descent: ({w_final:8.4f},{b_final:8.4f})\")"
      ],
      "metadata": {
        "colab": {
          "base_uri": "https://localhost:8080/"
        },
        "id": "3bQNKnWd-E19",
        "outputId": "baeabaf7-27cd-4b52-850a-3302b8491393"
      },
      "execution_count": 9,
      "outputs": [
        {
          "output_type": "stream",
          "name": "stdout",
          "text": [
            "Iteration    0: Cost 7.93e+04  dj_dw: -6.500e+02, dj_db: -4.000e+02   w:  6.500e+00, b: 4.00000e+00\n",
            "Iteration 1000: Cost 3.41e+00  dj_dw: -3.712e-01, dj_db:  6.007e-01   w:  1.949e+02, b: 1.08228e+02\n",
            "Iteration 2000: Cost 7.93e-01  dj_dw: -1.789e-01, dj_db:  2.895e-01   w:  1.975e+02, b: 1.03966e+02\n",
            "Iteration 3000: Cost 1.84e-01  dj_dw: -8.625e-02, dj_db:  1.396e-01   w:  1.988e+02, b: 1.01912e+02\n",
            "Iteration 4000: Cost 4.28e-02  dj_dw: -4.158e-02, dj_db:  6.727e-02   w:  1.994e+02, b: 1.00922e+02\n",
            "Iteration 5000: Cost 9.95e-03  dj_dw: -2.004e-02, dj_db:  3.243e-02   w:  1.997e+02, b: 1.00444e+02\n",
            "Iteration 6000: Cost 2.31e-03  dj_dw: -9.660e-03, dj_db:  1.563e-02   w:  1.999e+02, b: 1.00214e+02\n",
            "Iteration 7000: Cost 5.37e-04  dj_dw: -4.657e-03, dj_db:  7.535e-03   w:  1.999e+02, b: 1.00103e+02\n",
            "Iteration 8000: Cost 1.25e-04  dj_dw: -2.245e-03, dj_db:  3.632e-03   w:  2.000e+02, b: 1.00050e+02\n",
            "Iteration 9000: Cost 2.90e-05  dj_dw: -1.082e-03, dj_db:  1.751e-03   w:  2.000e+02, b: 1.00024e+02\n",
            "(w,b) found by gradient descent: (199.9929,100.0116)\n"
          ]
        }
      ]
    },
    {
      "cell_type": "code",
      "source": [
        "print(f\"1000 sqft house prediction {w_final*1.0 + b_final:0.1f} Thousand dollars\")\n",
        "print(f\"1200 sqft house prediction {w_final*1.2 + b_final:0.1f} Thousand dollars\")\n",
        "print(f\"2000 sqft house prediction {w_final*2.0 + b_final:0.1f} Thousand dollars\")"
      ],
      "metadata": {
        "colab": {
          "base_uri": "https://localhost:8080/"
        },
        "id": "ie8V9UlS-hGX",
        "outputId": "1fd206f0-f30f-4b14-a2a5-719c963cb359"
      },
      "execution_count": 10,
      "outputs": [
        {
          "output_type": "stream",
          "name": "stdout",
          "text": [
            "1000 sqft house prediction 300.0 Thousand dollars\n",
            "1200 sqft house prediction 340.0 Thousand dollars\n",
            "2000 sqft house prediction 500.0 Thousand dollars\n"
          ]
        }
      ]
    },
    {
      "cell_type": "markdown",
      "source": [
        "# Practicing"
      ],
      "metadata": {
        "id": "FM2j6p_kA4UA"
      }
    },
    {
      "cell_type": "code",
      "source": [
        "import numpy as np\n",
        "import matplotlib.pyplot as plt\n",
        "\n",
        "X = np.array([800,1000,1200],dtype=float)\n",
        "y = np.array([150,180,210],dtype=float)\n",
        "\n",
        "X_s = X / 1000.0\n",
        "\n",
        "m = X_s.shape[0]\n",
        "print(\"m (examples):\", m)\n",
        "print(\"X_s:\", X_s)\n",
        "print(\"y:\", y)\n"
      ],
      "metadata": {
        "colab": {
          "base_uri": "https://localhost:8080/"
        },
        "id": "0ZSRfmCeA8XE",
        "outputId": "0efeddfc-d789-4ae2-dd4f-974f00b4900b"
      },
      "execution_count": 1,
      "outputs": [
        {
          "output_type": "stream",
          "name": "stdout",
          "text": [
            "m (examples): 3\n",
            "X_s: [0.8 1.  1.2]\n",
            "y: [150. 180. 210.]\n"
          ]
        }
      ]
    },
    {
      "cell_type": "code",
      "source": [
        "plt.scatter(X,y)\n",
        "plt.xlabel(\"Size (sqft)\")\n",
        "plt.ylabel(\"Price\")\n",
        "plt.title(\"House Size vs Price (raw)\")\n",
        "plt.show()"
      ],
      "metadata": {
        "colab": {
          "base_uri": "https://localhost:8080/",
          "height": 472
        },
        "id": "SP73zTetBWLX",
        "outputId": "4c3823e5-686a-4063-d014-65074f294f07"
      },
      "execution_count": 3,
      "outputs": [
        {
          "output_type": "display_data",
          "data": {
            "text/plain": [
              "<Figure size 640x480 with 1 Axes>"
            ],
            "image/png": "[encoded data removed]"
          },
          "metadata": {}
        }
      ]
    },
    {
      "cell_type": "code",
      "source": [
        "def compute_cost(x,y,w,b):\n",
        "  m = x.shape[0]\n",
        "\n",
        "  cost = 0\n",
        "  for i in range(m):\n",
        "    f_wb = w * x[i] + b\n",
        "    cost += (f_wb - y[i]) ** 2\n",
        "  total_cost = (1/(2*m)) * cost\n",
        "\n",
        "  return total_cost\n",
        "\n",
        "def f_wb(x,w,b):\n",
        "  return w*x+b\n",
        "\n",
        "def compute_gradient(x,y,w,b):\n",
        "  m = x.shape[0]\n",
        "  dj_dw = 0\n",
        "  dj_db = 0\n",
        "\n",
        "  for i in range(m):\n",
        "    f_wb = w*x[i]+b\n",
        "    dj_dw_i = (f_wb-y[i])*x[i]\n",
        "    dj_db_i = f_wb-y[i]\n",
        "    dj_dw += dj_dw_i\n",
        "    dj_db += dj_db_i\n",
        "  dj_dw = dj_dw/m\n",
        "  dj_db = dj_db/m\n",
        "\n",
        "  return dj_dw,dj_db\n"
      ],
      "metadata": {
        "id": "byzg_ay_Bire"
      },
      "execution_count": 4,
      "outputs": []
    },
    {
      "cell_type": "code",
      "source": [
        "w , b = 0.0 , 0.0\n",
        "\n",
        "print(\"predictions with w=0,b=0:\", f_wb(X_s, w, b))\n",
        "print(\"errors:\", f_wb(X_s, w, b) - y)\n",
        "print(\"cost J:\", compute_cost(X_s, y, w, b))\n",
        "dj_dw, dj_db = compute_gradient(X_s, y, w, b)\n",
        "print(\"dj_dw:\", dj_dw, \"dj_db:\", dj_db)"
      ],
      "metadata": {
        "colab": {
          "base_uri": "https://localhost:8080/"
        },
        "id": "ntPsTp0LByKl",
        "outputId": "626a2b84-63b0-401f-c8fb-e94b2db49adf"
      },
      "execution_count": 5,
      "outputs": [
        {
          "output_type": "stream",
          "name": "stdout",
          "text": [
            "predictions with w=0,b=0: [0. 0. 0.]\n",
            "errors: [-150. -180. -210.]\n",
            "cost J: 16500.0\n",
            "dj_dw: -184.0 dj_db: -180.0\n"
          ]
        }
      ]
    },
    {
      "cell_type": "code",
      "source": [
        "w, b = 150.0, 30.0\n",
        "print(\"preds:\", f_wb(X_s, w, b))\n",
        "print(\"cost:\", compute_cost(X_s, y, w, b))\n"
      ],
      "metadata": {
        "colab": {
          "base_uri": "https://localhost:8080/"
        },
        "id": "cffwbJOMCV1f",
        "outputId": "40506999-780b-4e5c-c18c-5623c5ebf8bc"
      },
      "execution_count": 6,
      "outputs": [
        {
          "output_type": "stream",
          "name": "stdout",
          "text": [
            "preds: [150. 180. 210.]\n",
            "cost: 0.0\n"
          ]
        }
      ]
    },
    {
      "cell_type": "code",
      "source": [
        "def gradient_descent(X, y, w, b, alpha=0.1, iters=200, verbose=True):\n",
        "    J_hist = []\n",
        "    for i in range(iters):\n",
        "        dj_dw, dj_db = compute_gradient(X, y, w, b)\n",
        "        w -= alpha * dj_dw\n",
        "        b -= alpha * dj_db\n",
        "        J = compute_cost(X, y, w, b)\n",
        "        J_hist.append(J)\n",
        "        if verbose and (i % 20 == 0 or i == iters-1):\n",
        "            print(f\"iter {i:03d}: cost={J:.6f}, w={w:.6f}, b={b:.6f}, dj_dw={dj_dw:.6f}, dj_db={dj_db:.6f}\")\n",
        "    return w, b, J_hist\n",
        "\n",
        "w0, b0 = 0.0, 0.0\n",
        "w_opt, b_opt, J_hist = gradient_descent(X_s, y, w0, b0, alpha=0.2, iters=1500)\n",
        "print(\"Final w, b:\", w_opt, b_opt)\n"
      ],
      "metadata": {
        "colab": {
          "base_uri": "https://localhost:8080/"
        },
        "id": "HyQDEVIPCeQb",
        "outputId": "c73099e0-07e5-4727-ef66-98eb11340332"
      },
      "execution_count": 18,
      "outputs": [
        {
          "output_type": "stream",
          "name": "stdout",
          "text": [
            "iter 000: cost=5916.776533, w=36.800000, b=36.000000, dj_dw=-184.000000, dj_db=-180.000000\n",
            "iter 020: cost=41.802966, w=94.193318, b=86.552098, dj_dw=-0.747192, dj_db=0.744971\n",
            "iter 040: cost=37.594996, w=97.078326, b=83.632000, dj_dw=-0.702780, dj_db=0.712213\n",
            "iter 060: cost=33.810615, w=99.812555, b=80.861072, dj_dw=-0.666470, dj_db=0.675416\n",
            "iter 080: cost=30.407176, w=102.405519, b=78.233304, dj_dw=-0.632037, dj_db=0.640520\n",
            "iter 100: cost=27.346333, w=104.864516, b=75.741302, dj_dw=-0.599382, dj_db=0.607427\n",
            "iter 120: cost=24.593601, w=107.196467, b=73.378051, dj_dw=-0.568415, dj_db=0.576044\n",
            "iter 140: cost=22.117964, w=109.407937, b=71.136899, dj_dw=-0.539047, dj_db=0.546283\n",
            "iter 160: cost=19.891529, w=111.505150, b=69.011536, dj_dw=-0.511197, dj_db=0.518059\n",
            "iter 180: cost=17.889211, w=113.494009, b=66.995982, dj_dw=-0.484786, dj_db=0.491293\n",
            "iter 200: cost=16.088450, w=115.380112, b=65.084563, dj_dw=-0.459739, dj_db=0.465910\n",
            "iter 220: cost=14.468957, w=117.168769, b=63.271899, dj_dw=-0.435986, dj_db=0.441838\n",
            "iter 240: cost=13.012485, w=118.865014, b=61.552886, dj_dw=-0.413461, dj_db=0.419010\n",
            "iter 260: cost=11.702624, w=120.473621, b=59.922688, dj_dw=-0.392099, dj_db=0.397362\n",
            "iter 280: cost=10.524617, w=121.999119, b=58.376715, dj_dw=-0.371841, dj_db=0.376832\n",
            "iter 300: cost=9.465189, w=123.445801, b=56.910615, dj_dw=-0.352630, dj_db=0.357363\n",
            "iter 320: cost=8.512406, w=124.817739, b=55.520262, dj_dw=-0.334411, dj_db=0.338900\n",
            "iter 340: cost=7.655531, w=126.118796, b=54.201743, dj_dw=-0.317133, dj_db=0.321390\n",
            "iter 360: cost=6.884912, w=127.352632, b=52.951346, dj_dw=-0.300749, dj_db=0.304785\n",
            "iter 380: cost=6.191864, w=128.522722, b=51.765551, dj_dw=-0.285210, dj_db=0.289038\n",
            "iter 400: cost=5.568579, w=129.632358, b=50.641021, dj_dw=-0.270475, dj_db=0.274105\n",
            "iter 420: cost=5.008036, w=130.684664, b=49.574590, dj_dw=-0.256500, dj_db=0.259943\n",
            "iter 440: cost=4.503918, w=131.682602, b=48.563258, dj_dw=-0.243248, dj_db=0.246513\n",
            "iter 460: cost=4.050545, w=132.628982, b=47.604176, dj_dw=-0.230681, dj_db=0.233777\n",
            "iter 480: cost=3.642810, w=133.526465, b=46.694646, dj_dw=-0.218762, dj_db=0.221699\n",
            "iter 500: cost=3.276118, w=134.377580, b=45.832107, dj_dw=-0.207460, dj_db=0.210244\n",
            "iter 520: cost=2.946338, w=135.184722, b=45.014132, dj_dw=-0.196741, dj_db=0.199382\n",
            "iter 540: cost=2.649754, w=135.950162, b=44.238418, dj_dw=-0.186577, dj_db=0.189081\n",
            "iter 560: cost=2.383025, w=136.676055, b=43.502782, dj_dw=-0.176937, dj_db=0.179312\n",
            "iter 580: cost=2.143145, w=137.364444, b=42.805153, dj_dw=-0.167795, dj_db=0.170048\n",
            "iter 600: cost=1.927412, w=138.017268, b=42.143567, dj_dw=-0.159126, dj_db=0.161262\n",
            "iter 620: cost=1.733395, w=138.636363, b=41.516162, dj_dw=-0.150905, dj_db=0.152930\n",
            "iter 640: cost=1.558909, w=139.223472, b=40.921173, dj_dw=-0.143108, dj_db=0.145029\n",
            "iter 660: cost=1.401986, w=139.780247, b=40.356924, dj_dw=-0.135714, dj_db=0.137536\n",
            "iter 680: cost=1.260859, w=140.308257, b=39.821828, dj_dw=-0.128703, dj_db=0.130430\n",
            "iter 700: cost=1.133939, w=140.808987, b=39.314377, dj_dw=-0.122053, dj_db=0.123691\n",
            "iter 720: cost=1.019795, w=141.283846, b=38.833144, dj_dw=-0.115747, dj_db=0.117301\n",
            "iter 740: cost=0.917140, w=141.734171, b=38.376775, dj_dw=-0.109767, dj_db=0.111240\n",
            "iter 760: cost=0.824819, w=142.161230, b=37.943984, dj_dw=-0.104096, dj_db=0.105493\n",
            "iter 780: cost=0.741791, w=142.566225, b=37.533553, dj_dw=-0.098718, dj_db=0.100043\n",
            "iter 800: cost=0.667121, w=142.950295, b=37.144328, dj_dw=-0.093617, dj_db=0.094874\n",
            "iter 820: cost=0.599968, w=143.314522, b=36.775212, dj_dw=-0.088781, dj_db=0.089972\n",
            "iter 840: cost=0.539574, w=143.659931, b=36.425167, dj_dw=-0.084194, dj_db=0.085324\n",
            "iter 860: cost=0.485259, w=143.987495, b=36.093207, dj_dw=-0.079844, dj_db=0.080915\n",
            "iter 880: cost=0.436412, w=144.298134, b=35.778397, dj_dw=-0.075719, dj_db=0.076735\n",
            "iter 900: cost=0.392482, w=144.592724, b=35.479853, dj_dw=-0.071807, dj_db=0.072770\n",
            "iter 920: cost=0.352974, w=144.872095, b=35.196733, dj_dw=-0.068097, dj_db=0.069011\n",
            "iter 940: cost=0.317443, w=145.137031, b=34.928241, dj_dw=-0.064578, dj_db=0.065445\n",
            "iter 960: cost=0.285489, w=145.388279, b=34.673621, dj_dw=-0.061242, dj_db=0.062064\n",
            "iter 980: cost=0.256751, w=145.626546, b=34.432155, dj_dw=-0.058078, dj_db=0.058857\n",
            "iter 1000: cost=0.230906, w=145.852503, b=34.203165, dj_dw=-0.055077, dj_db=0.055816\n",
            "iter 1020: cost=0.207662, w=146.066786, b=33.986006, dj_dw=-0.052232, dj_db=0.052933\n",
            "iter 1040: cost=0.186759, w=146.269998, b=33.780067, dj_dw=-0.049533, dj_db=0.050198\n",
            "iter 1060: cost=0.167959, w=146.462711, b=33.584768, dj_dw=-0.046974, dj_db=0.047604\n",
            "iter 1080: cost=0.151052, w=146.645467, b=33.399558, dj_dw=-0.044547, dj_db=0.045145\n",
            "iter 1100: cost=0.135847, w=146.818781, b=33.223918, dj_dw=-0.042245, dj_db=0.042812\n",
            "iter 1120: cost=0.122172, w=146.983140, b=33.057353, dj_dw=-0.040063, dj_db=0.040600\n",
            "iter 1140: cost=0.109874, w=147.139008, b=32.899393, dj_dw=-0.037993, dj_db=0.038503\n",
            "iter 1160: cost=0.098814, w=147.286823, b=32.749594, dj_dw=-0.036030, dj_db=0.036514\n",
            "iter 1180: cost=0.088867, w=147.427001, b=32.607534, dj_dw=-0.034168, dj_db=0.034627\n",
            "iter 1200: cost=0.079922, w=147.559936, b=32.472815, dj_dw=-0.032403, dj_db=0.032838\n",
            "iter 1220: cost=0.071877, w=147.686004, b=32.345055, dj_dw=-0.030729, dj_db=0.031141\n",
            "iter 1240: cost=0.064641, w=147.805558, b=32.223897, dj_dw=-0.029141, dj_db=0.029533\n",
            "iter 1260: cost=0.058135, w=147.918935, b=32.108998, dj_dw=-0.027636, dj_db=0.028007\n",
            "iter 1280: cost=0.052283, w=148.026454, b=32.000035, dj_dw=-0.026208, dj_db=0.026560\n",
            "iter 1300: cost=0.047020, w=148.128419, b=31.896702, dj_dw=-0.024854, dj_db=0.025187\n",
            "iter 1320: cost=0.042287, w=148.225115, b=31.798708, dj_dw=-0.023570, dj_db=0.023886\n",
            "iter 1340: cost=0.038030, w=148.316816, b=31.705777, dj_dw=-0.022352, dj_db=0.022652\n",
            "iter 1360: cost=0.034202, w=148.403778, b=31.617647, dj_dw=-0.021197, dj_db=0.021482\n",
            "iter 1380: cost=0.030759, w=148.486248, b=31.534070, dj_dw=-0.020102, dj_db=0.020372\n",
            "iter 1400: cost=0.027663, w=148.564457, b=31.454811, dj_dw=-0.019063, dj_db=0.019319\n",
            "iter 1420: cost=0.024878, w=148.638625, b=31.379648, dj_dw=-0.018079, dj_db=0.018321\n",
            "iter 1440: cost=0.022374, w=148.708961, b=31.308367, dj_dw=-0.017145, dj_db=0.017375\n",
            "iter 1460: cost=0.020122, w=148.775664, b=31.240770, dj_dw=-0.016259, dj_db=0.016477\n",
            "iter 1480: cost=0.018096, w=148.838920, b=31.176665, dj_dw=-0.015419, dj_db=0.015626\n",
            "iter 1499: cost=0.016361, w=148.895983, b=31.118835, dj_dw=-0.014661, dj_db=0.014858\n",
            "Final w, b: 148.89598310251756 31.11883525325637\n"
          ]
        }
      ]
    },
    {
      "cell_type": "code",
      "source": [
        "plt.scatter(X, y, label='data')\n",
        "x_line = np.linspace(X.min(), X.max(), 100)\n",
        "y_line = f_wb(x_line / 1000.0, w_opt, b_opt)   # use scaled x in model\n",
        "plt.plot(x_line, y_line, color='red')\n",
        "# plt.xlabel(\"Size (sqft)\"); plt.ylabel(\"Price\"); plt.legend(); plt.show()\n"
      ],
      "metadata": {
        "colab": {
          "base_uri": "https://localhost:8080/",
          "height": 447
        },
        "id": "aM0_bIW-CxxW",
        "outputId": "9c6d505b-4b47-4e65-e2fe-9538856a5b0e"
      },
      "execution_count": 25,
      "outputs": [
        {
          "output_type": "execute_result",
          "data": {
            "text/plain": [
              "[<matplotlib.lines.Line2D at 0x7ff762634470>]"
            ]
          },
          "metadata": {},
          "execution_count": 25
        },
        {
          "output_type": "display_data",
          "data": {
            "text/plain": [
              "<Figure size 640x480 with 1 Axes>"
            ],
            "image/png": "[encoded data removed]"
          },
          "metadata": {}
        }
      ]
    }
  ]
}
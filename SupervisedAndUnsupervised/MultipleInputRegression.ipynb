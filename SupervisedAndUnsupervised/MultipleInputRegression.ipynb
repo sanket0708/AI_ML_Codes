{
  "nbformat": 4,
  "nbformat_minor": 0,
  "metadata": {
    "colab": {
      "provenance": [],
      "authorship_tag": "ABX9TyMje6vHKvRd+31XGWQbAkJI",
      "include_colab_link": true
    },
    "kernelspec": {
      "name": "python3",
      "display_name": "Python 3"
    },
    "language_info": {
      "name": "python"
    }
  },
  "cells": [
    {
      "cell_type": "markdown",
      "metadata": {
        "id": "view-in-github",
        "colab_type": "text"
      },
      "source": [
        "<a href=\"https://colab.research.google.com/github/sanket0708/AI_ML_Codes/blob/main/SupervisedAndUnsupervised/MultipleInputRegression.ipynb\" target=\"_parent\"><img src=\"https://colab.research.google.com/assets/colab-badge.svg\" alt=\"Open In Colab\"/></a>"
      ]
    },
    {
      "cell_type": "code",
      "execution_count": 17,
      "metadata": {
        "colab": {
          "base_uri": "https://localhost:8080/"
        },
        "id": "mVbddCy5tHN4",
        "outputId": "1578d032-2e73-4fbd-8063-86f31c64c86f"
      },
      "outputs": [
        {
          "output_type": "stream",
          "name": "stdout",
          "text": [
            "(4,)\n",
            "1\n"
          ]
        }
      ],
      "source": [
        "import numpy as np\n",
        "import time\n",
        "\n",
        "a = np.zeros(4)\n",
        "print(a.shape)\n",
        "\n",
        "b = np.random.randint(2)\n",
        "print(b)"
      ]
    },
    {
      "cell_type": "code",
      "source": [
        "c = np.arange(10)\n",
        "print(c)\n",
        "\n",
        "print(c[2])\n",
        "\n",
        "print(c[-2])\n",
        "\n",
        "try:\n",
        "  c = a[10]\n",
        "except Exception as e:\n",
        "  print(e)"
      ],
      "metadata": {
        "colab": {
          "base_uri": "https://localhost:8080/"
        },
        "id": "12bVHMxdtxLz",
        "outputId": "a3653ce1-26ec-4b9f-98c6-bb843b17d067"
      },
      "execution_count": 22,
      "outputs": [
        {
          "output_type": "stream",
          "name": "stdout",
          "text": [
            "[0 1 2 3 4 5 6 7 8 9]\n",
            "2\n",
            "8\n",
            "index 10 is out of bounds for axis 0 with size 4\n"
          ]
        }
      ]
    },
    {
      "cell_type": "code",
      "source": [
        "a = np.arange(10)\n",
        "print(a)\n",
        "\n",
        "c = a[2:8:1]\n",
        "print(c)\n",
        "\n",
        "#three elements seperated by 2\n",
        "d = a[2:7:2]\n",
        "print(d)\n",
        "\n",
        "#access all elements index 3 and above\n",
        "e = a[3:]\n",
        "print(e)\n",
        "\n",
        "#below index 3\n",
        "f = a[:3:]\n",
        "print(f)"
      ],
      "metadata": {
        "colab": {
          "base_uri": "https://localhost:8080/"
        },
        "id": "PApYMmbyuBOp",
        "outputId": "c2020575-bde8-41c5-c5e2-33386437785e"
      },
      "execution_count": 31,
      "outputs": [
        {
          "output_type": "stream",
          "name": "stdout",
          "text": [
            "[0 1 2 3 4 5 6 7 8 9]\n",
            "[2 3 4 5 6 7]\n",
            "[2 4 6]\n",
            "[3 4 5 6 7 8 9]\n",
            "[0 1 2]\n"
          ]
        }
      ]
    },
    {
      "cell_type": "code",
      "source": [
        "a =np.array([1,2,3,4])\n",
        "print(a)\n",
        "\n",
        "#negate elements of a\n",
        "b = -a\n",
        "print(b)\n",
        "\n",
        "#sum of all elements of a\n",
        "sum = np.sum(a)\n",
        "print(sum)\n",
        "\n",
        "mean = np.mean(a)\n",
        "print(mean)\n",
        "\n",
        "d = a**2\n",
        "print(d)"
      ],
      "metadata": {
        "colab": {
          "base_uri": "https://localhost:8080/"
        },
        "id": "a8JkUaeMumGz",
        "outputId": "03fe451b-a367-484a-f521-7fd86f0c8187"
      },
      "execution_count": 36,
      "outputs": [
        {
          "output_type": "stream",
          "name": "stdout",
          "text": [
            "[1 2 3 4]\n",
            "[-1 -2 -3 -4]\n",
            "10\n",
            "2.5\n",
            "[ 1  4  9 16]\n"
          ]
        }
      ]
    },
    {
      "cell_type": "code",
      "source": [
        "a = np.array([1,2,3,4])\n",
        "b = np.array([5,6,7,8])\n",
        "\n",
        "print(a+b)"
      ],
      "metadata": {
        "colab": {
          "base_uri": "https://localhost:8080/"
        },
        "id": "udZu_kJEu8ie",
        "outputId": "24b69847-029d-4c51-df3d-bbd8cbd5d084"
      },
      "execution_count": 37,
      "outputs": [
        {
          "output_type": "stream",
          "name": "stdout",
          "text": [
            "[ 6  8 10 12]\n"
          ]
        }
      ]
    },
    {
      "cell_type": "code",
      "source": [
        "def my_dot(a,b):\n",
        "  x = 0\n",
        "  for i in range(a.shape[0]):\n",
        "    x = x + a[i]*b[i]\n",
        "\n",
        "  return x"
      ],
      "metadata": {
        "id": "14kzINAjvJs8"
      },
      "execution_count": 38,
      "outputs": []
    },
    {
      "cell_type": "code",
      "source": [
        "a = np.array([1,2,3,4])\n",
        "b = np.array([5,6,7,8])\n",
        "print(my_dot(a,b))"
      ],
      "metadata": {
        "colab": {
          "base_uri": "https://localhost:8080/"
        },
        "id": "rvufdPGEvQjV",
        "outputId": "64a1e7a9-cea5-4aaf-fb17-7b197226093e"
      },
      "execution_count": 39,
      "outputs": [
        {
          "output_type": "stream",
          "name": "stdout",
          "text": [
            "70\n"
          ]
        }
      ]
    },
    {
      "cell_type": "code",
      "source": [
        "#or we can write\n",
        "print(np.dot(a,b))"
      ],
      "metadata": {
        "colab": {
          "base_uri": "https://localhost:8080/"
        },
        "id": "wd4TSLPsvX-x",
        "outputId": "63c2843b-e387-4ef5-f57e-d57c623727fd"
      },
      "execution_count": 40,
      "outputs": [
        {
          "output_type": "stream",
          "name": "stdout",
          "text": [
            "70\n"
          ]
        }
      ]
    },
    {
      "cell_type": "code",
      "source": [
        "a = np.zeros((1,5))\n",
        "print(a.shape)\n",
        "\n",
        "a = np.zeros((2,1))\n",
        "print(a.shape)"
      ],
      "metadata": {
        "colab": {
          "base_uri": "https://localhost:8080/"
        },
        "id": "CSJpd0pkvkeT",
        "outputId": "6109e7c0-1ba4-4544-ca2c-da5ca3a54a5f"
      },
      "execution_count": 44,
      "outputs": [
        {
          "output_type": "stream",
          "name": "stdout",
          "text": [
            "(1, 5)\n",
            "(2, 1)\n"
          ]
        }
      ]
    },
    {
      "cell_type": "code",
      "source": [
        "a = np.arange(6).reshape(6, 1) #row,column\n",
        "print(a)"
      ],
      "metadata": {
        "colab": {
          "base_uri": "https://localhost:8080/"
        },
        "id": "ic6j7AtNvyW4",
        "outputId": "6dc2d200-debd-4bb8-d4c4-7a98e2e5426a"
      },
      "execution_count": 48,
      "outputs": [
        {
          "output_type": "stream",
          "name": "stdout",
          "text": [
            "[[0]\n",
            " [1]\n",
            " [2]\n",
            " [3]\n",
            " [4]\n",
            " [5]]\n"
          ]
        }
      ]
    },
    {
      "cell_type": "code",
      "source": [
        "a = np.arange(20).reshape(-1, 10)\n",
        "print(f\"a = \\n{a}\")\n",
        "\n",
        "#access 5 consecutive elements\n",
        "print(a[0,2:7:1]) # 0th row ka index 2 se 6th tak print with step size 1\n",
        "\n",
        "print(a[:,2:7:1])"
      ],
      "metadata": {
        "colab": {
          "base_uri": "https://localhost:8080/"
        },
        "id": "oo6NC164wb-L",
        "outputId": "40dff77e-2246-48a6-a9b8-8b34e9853910"
      },
      "execution_count": 53,
      "outputs": [
        {
          "output_type": "stream",
          "name": "stdout",
          "text": [
            "a = \n",
            "[[ 0  1  2  3  4  5  6  7  8  9]\n",
            " [10 11 12 13 14 15 16 17 18 19]]\n",
            "[2 3 4 5 6]\n",
            "[[ 2  3  4  5  6]\n",
            " [12 13 14 15 16]]\n"
          ]
        }
      ]
    },
    {
      "cell_type": "markdown",
      "source": [
        "Lets start the gradient descent for multiple inputs\n"
      ],
      "metadata": {
        "id": "bKIxzPHD0lEt"
      }
    },
    {
      "cell_type": "code",
      "source": [
        "import copy, math\n",
        "import numpy as np\n",
        "import matplotlib.pyplot as plt\n",
        "import pandas as pd\n",
        "import seaborn as sns"
      ],
      "metadata": {
        "id": "dgW05G8M0pyN"
      },
      "execution_count": 2,
      "outputs": []
    },
    {
      "cell_type": "markdown",
      "source": [
        "You will use the motivating example of housing price prediction. The training dataset contains three examples with four features (size, bedrooms, floors and, age) shown in the table below. Note that, unlike the earlier labs, size is in sqft rather than 1000 sqft.\n",
        "\n"
      ],
      "metadata": {
        "id": "4T5ohyvQ00w7"
      }
    },
    {
      "cell_type": "code",
      "source": [
        "X_train = np.array([[2104,5,1,45],[1416,3,2,40],[852,2,1,35]])\n",
        "y_train = np.array([460,232,178])"
      ],
      "metadata": {
        "id": "D8SsIZbF0u_u"
      },
      "execution_count": 4,
      "outputs": []
    },
    {
      "cell_type": "code",
      "source": [
        "print(X_train.shape)\n",
        "print(X_train)\n",
        "print(type(X_train))\n",
        "\n",
        "print(y_train.shape)\n",
        "print(y_train)\n",
        "print(type(y_train))"
      ],
      "metadata": {
        "colab": {
          "base_uri": "https://localhost:8080/"
        },
        "id": "jD4kY_Un1wwh",
        "outputId": "c6474c4d-6562-4aa3-d044-64ab289a059b"
      },
      "execution_count": 10,
      "outputs": [
        {
          "output_type": "stream",
          "name": "stdout",
          "text": [
            "(3, 4)\n",
            "[[2104    5    1   45]\n",
            " [1416    3    2   40]\n",
            " [ 852    2    1   35]]\n",
            "<class 'numpy.ndarray'>\n",
            "(3,)\n",
            "[460 232 178]\n",
            "<class 'numpy.ndarray'>\n"
          ]
        }
      ]
    },
    {
      "cell_type": "code",
      "source": [
        "b_init = 785.1811367994083\n",
        "w_init = np.array([ 0.39133535, 18.75376741, -53.36032453, -26.42131618])\n",
        "print(f\"w_init shape: {w_init.shape}, b_init type: {type(b_init)}\")"
      ],
      "metadata": {
        "colab": {
          "base_uri": "https://localhost:8080/"
        },
        "id": "nkIe5ZDv2jCZ",
        "outputId": "c5c28286-ce74-404e-b83c-03fbbbc344dd"
      },
      "execution_count": 11,
      "outputs": [
        {
          "output_type": "stream",
          "name": "stdout",
          "text": [
            "w_init shape: (4,), b_init type: <class 'float'>\n"
          ]
        }
      ]
    },
    {
      "cell_type": "code",
      "source": [
        "def predit_single_loop(x,w,b):\n",
        "  n = x.shape[0]\n",
        "  p = 0\n",
        "  for i in range(n):\n",
        "    p_i = x[i]*w[i]\n",
        "    p = p + p_i\n",
        "  p = p + b\n",
        "  return p"
      ],
      "metadata": {
        "id": "UU-2qo_p3CwZ"
      },
      "execution_count": 12,
      "outputs": []
    },
    {
      "cell_type": "code",
      "source": [
        "x_vec = X_train[0,:]\n",
        "print(x_vec)\n",
        "\n",
        "#make a prediction\n",
        "f_wb = predit_single_loop(x_vec,w_init,b_init)\n",
        "print(f_wb)"
      ],
      "metadata": {
        "colab": {
          "base_uri": "https://localhost:8080/"
        },
        "id": "Y-UqQObV3PUm",
        "outputId": "e5104301-24fd-4184-c661-d21a242ed73c"
      },
      "execution_count": 18,
      "outputs": [
        {
          "output_type": "stream",
          "name": "stdout",
          "text": [
            "[2104    5    1   45]\n",
            "459.9999976194083\n"
          ]
        }
      ]
    },
    {
      "cell_type": "code",
      "source": [
        "def predict(x,w,b):\n",
        "  p = np.dot(x,w)+b\n",
        "  return p"
      ],
      "metadata": {
        "id": "pIslw4xY3sBg"
      },
      "execution_count": 19,
      "outputs": []
    },
    {
      "cell_type": "code",
      "source": [
        "x_vec = X_train[1,:]\n",
        "print(f\"x_vec shape {x_vec.shape}, x_vec value: {x_vec}\")\n",
        "\n",
        "# make a prediction\n",
        "f_wb = predict(x_vec,w_init, b_init)\n",
        "print(f\"f_wb shape {f_wb.shape}, prediction: {f_wb}\")"
      ],
      "metadata": {
        "colab": {
          "base_uri": "https://localhost:8080/"
        },
        "id": "o7s3oEBq3x_H",
        "outputId": "cc6a25fc-b962-41f9-af9f-05acc1d57169"
      },
      "execution_count": 21,
      "outputs": [
        {
          "output_type": "stream",
          "name": "stdout",
          "text": [
            "x_vec shape (4,), x_vec value: [1416    3    2   40]\n",
            "f_wb shape (), prediction: 231.9999983694081\n"
          ]
        }
      ]
    },
    {
      "cell_type": "code",
      "source": [
        "def compute_cost(X,y,w,b):\n",
        "  m = X.shape[0]\n",
        "  cost = 0.0\n",
        "  for i in range(m):\n",
        "    f_wb_i = np.dot(X[i],w)+b\n",
        "    cost += (f_wb_i - y[i])**2\n",
        "  cost = cost / (2*m)\n",
        "  return cost"
      ],
      "metadata": {
        "id": "BqIL2OjQ4s8q"
      },
      "execution_count": 22,
      "outputs": []
    },
    {
      "cell_type": "code",
      "source": [
        "# Compute and display cost using our pre-chosen optimal parameters.\n",
        "cost = compute_cost(X_train, y_train, w_init, b_init)\n",
        "print(f'Cost at optimal w : {cost}')"
      ],
      "metadata": {
        "colab": {
          "base_uri": "https://localhost:8080/"
        },
        "id": "SJkXOz3F5Gdy",
        "outputId": "cb04e2fc-f306-469e-9796-200139988535"
      },
      "execution_count": 23,
      "outputs": [
        {
          "output_type": "stream",
          "name": "stdout",
          "text": [
            "Cost at optimal w : 1.5578904428966628e-12\n"
          ]
        }
      ]
    },
    {
      "cell_type": "markdown",
      "source": [
        "Compute Gradient with Multiple Variables"
      ],
      "metadata": {
        "id": "gf7s0Buf5cbD"
      }
    },
    {
      "cell_type": "code",
      "source": [
        "def compute_gradient(X,y,w,b):\n",
        "  m,n = X.shape\n",
        "  dj_dw = np.zeros((n,))\n",
        "  dj_db = 0.\n",
        "\n",
        "  for i in range(m):\n",
        "    err = (np.dot(X[i],w)+b) - y[i]\n",
        "    for j in range(n):\n",
        "      dj_dw[j] = dj_dw[j] + err * X[i,j]\n",
        "    dj_db = dj_db + err\n",
        "\n",
        "  dj_dw /= m\n",
        "  dj_db /= m\n",
        "  return dj_db,dj_dw"
      ],
      "metadata": {
        "id": "MufpG-vG5aEb"
      },
      "execution_count": 37,
      "outputs": []
    },
    {
      "cell_type": "code",
      "source": [
        "#compute and display gradient\n",
        "tmp_dj_dw, tmp_dj_db = compute_gradient(X_train, y_train, w_init, b_init)\n",
        "print(f'dj_db at initial w,b: {tmp_dj_db}')\n",
        "print(f'dj_dw at initial w,b: \\n {tmp_dj_dw}')"
      ],
      "metadata": {
        "colab": {
          "base_uri": "https://localhost:8080/"
        },
        "id": "nDl9bQP_52UQ",
        "outputId": "b272f6c5-2a09-4924-d49c-b4769cbf0f92"
      },
      "execution_count": 38,
      "outputs": [
        {
          "output_type": "stream",
          "name": "stdout",
          "text": [
            "dj_db at initial w,b: [-2.72623577e-03 -6.27197263e-06 -2.21745578e-06 -6.92403391e-05]\n",
            "dj_dw at initial w,b: \n",
            " -1.6739251501955248e-06\n"
          ]
        }
      ]
    },
    {
      "cell_type": "markdown",
      "source": [
        "**Gradient Descent With Multiple Variables**"
      ],
      "metadata": {
        "id": "8puRO2h96Oa8"
      }
    },
    {
      "cell_type": "code",
      "source": [
        "def gradient_descent(X,y,w_in,b_in,cost_function,gradient_function,alpha,num_iters):\n",
        "  J_history = []\n",
        "  w = copy.deepcopy(w_in)\n",
        "  b = b_in\n",
        "\n",
        "  for i in range(num_iters):\n",
        "    dj_db,dj_dw = gradient_function(X,y,w,b)\n",
        "\n",
        "    w = w - alpha * dj_dw\n",
        "    b = b - alpha * dj_db\n",
        "\n",
        "    if i < 100000:\n",
        "      J_history.append(cost_function(X,y,w,b))\n",
        "\n",
        "\n",
        "\n",
        "  return w,b,J_history"
      ],
      "metadata": {
        "id": "8lz9u2XC6QDk"
      },
      "execution_count": 39,
      "outputs": []
    },
    {
      "cell_type": "code",
      "source": [
        "initial_w = np.zeros_like(w_init)\n",
        "#print(initial_w)\n",
        "initial_b = 0.\n",
        "\n",
        "iterations = 1000\n",
        "alpha = 5.0e-7\n",
        "\n",
        "w_final,b_final,J_hist = gradient_descent(X_train,y_train,initial_w,initial_b,compute_cost,compute_gradient,alpha,iterations)\n",
        "\n",
        "print(f\"b,w found by gradient descent: {b_final:0.2f},{w_final} \")\n",
        "m,_ = X_train.shape\n",
        "for i in range(m):\n",
        "    print(f\"prediction: {np.dot(X_train[i], w_final) + b_final:0.2f}, target value: {y_train[i]}\")"
      ],
      "metadata": {
        "colab": {
          "base_uri": "https://localhost:8080/"
        },
        "id": "EVCeLUPP6ut7",
        "outputId": "b0841177-063a-4501-d9eb-49947b3072ad"
      },
      "execution_count": 41,
      "outputs": [
        {
          "output_type": "stream",
          "name": "stdout",
          "text": [
            "b,w found by gradient descent: -0.00,[ 0.20396569  0.00374919 -0.0112487  -0.0658614 ] \n",
            "prediction: 426.19, target value: 460\n",
            "prediction: 286.17, target value: 232\n",
            "prediction: 171.47, target value: 178\n"
          ]
        }
      ]
    },
    {
      "cell_type": "code",
      "source": [],
      "metadata": {
        "id": "ifin01RT9z3-"
      },
      "execution_count": null,
      "outputs": []
    }
  ]
}
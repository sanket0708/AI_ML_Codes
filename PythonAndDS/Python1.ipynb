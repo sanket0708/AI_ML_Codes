{
  "nbformat": 4,
  "nbformat_minor": 0,
  "metadata": {
    "colab": {
      "provenance": [],
      "authorship_tag": "ABX9TyMMNO1h0Gp99r2wSQU/I3xS",
      "include_colab_link": true
    },
    "kernelspec": {
      "name": "python3",
      "display_name": "Python 3"
    },
    "language_info": {
      "name": "python"
    }
  },
  "cells": [
    {
      "cell_type": "markdown",
      "metadata": {
        "id": "view-in-github",
        "colab_type": "text"
      },
      "source": [
        "<a href=\"https://colab.research.google.com/github/sanket0708/AI_ML_Codes/blob/main/PythonAndDS/Python1.ipynb\" target=\"_parent\"><img src=\"https://colab.research.google.com/assets/colab-badge.svg\" alt=\"Open In Colab\"/></a>"
      ]
    },
    {
      "cell_type": "code",
      "execution_count": null,
      "metadata": {
        "id": "Z74_KycOmQmS",
        "colab": {
          "base_uri": "https://localhost:8080/"
        },
        "outputId": "994db47d-820f-4842-db8b-0ad76cfab5f8"
      },
      "outputs": [
        {
          "output_type": "stream",
          "name": "stdout",
          "text": [
            "Enter your nameSanket\n",
            "Hello Sanket\n"
          ]
        }
      ],
      "source": [
        "your_name = input(\"Enter your name\")\n",
        "print(\"Hello \"+ your_name);"
      ]
    },
    {
      "cell_type": "code",
      "source": [
        "a = input(\"Enter 1st number\")\n",
        "b = input(\"Enter 2nd number\")\n",
        "\n",
        "print(\"Sum is\", int(a)+int(b))\n",
        "print(\"Sum is\", int(a)-int(b))\n",
        "print(\"Sum is\", int(a)*int(b))\n",
        "print(\"Sum is\", int(a)/int(b))"
      ],
      "metadata": {
        "colab": {
          "base_uri": "https://localhost:8080/"
        },
        "id": "_gn4uZ5Or8Fz",
        "outputId": "b84794bc-9c54-438c-c82e-bfb4f1ab8eec"
      },
      "execution_count": null,
      "outputs": [
        {
          "output_type": "stream",
          "name": "stdout",
          "text": [
            "Enter 1st number10\n",
            "Enter 2nd number2\n",
            "Sum is 12\n",
            "Sum is 8\n",
            "Sum is 20\n",
            "Sum is 5.0\n"
          ]
        }
      ]
    },
    {
      "cell_type": "code",
      "source": [
        "temperature = 1\n",
        "\n",
        "if temperature>25:\n",
        "  print(\"Its a hot day!\")\n",
        "elif temperature<10:\n",
        "  print(\"Its cold!\")\n",
        "else:\n",
        "  print(\"Normal!\")"
      ],
      "metadata": {
        "colab": {
          "base_uri": "https://localhost:8080/"
        },
        "id": "fUojKnkEsrTO",
        "outputId": "61d8af71-506b-4bbd-d364-e952c532f73d"
      },
      "execution_count": null,
      "outputs": [
        {
          "output_type": "stream",
          "name": "stdout",
          "text": [
            "Its cold!\n"
          ]
        }
      ]
    },
    {
      "cell_type": "code",
      "source": [
        "list1 = [1,2,3,5,6]\n",
        "for item in list1:\n",
        "  print(\"The valuse is =\",item)\n",
        "\n",
        "print(\"In range loop\")\n",
        "\n",
        "for i in range(5):\n",
        "  print(\"The valuse is =\",list1[i])"
      ],
      "metadata": {
        "colab": {
          "base_uri": "https://localhost:8080/"
        },
        "id": "_rauVU5Ls_OM",
        "outputId": "9e7a9d67-6b92-474e-f96a-b060eef87abb"
      },
      "execution_count": null,
      "outputs": [
        {
          "output_type": "stream",
          "name": "stdout",
          "text": [
            "The valuse is = 1\n",
            "The valuse is = 2\n",
            "The valuse is = 3\n",
            "The valuse is = 5\n",
            "The valuse is = 6\n",
            "In range loop\n",
            "The valuse is = 1\n",
            "The valuse is = 2\n",
            "The valuse is = 3\n",
            "The valuse is = 5\n",
            "The valuse is = 6\n"
          ]
        }
      ]
    },
    {
      "cell_type": "code",
      "source": [
        "def print_name(name):\n",
        "  print(\"The name is\",name)\n",
        "\n",
        "print_name(\"Harsh\")"
      ],
      "metadata": {
        "colab": {
          "base_uri": "https://localhost:8080/"
        },
        "id": "Btcea5XFtcgm",
        "outputId": "a8a9f6d6-58a9-480d-bf40-42b4b72444eb"
      },
      "execution_count": null,
      "outputs": [
        {
          "output_type": "stream",
          "name": "stdout",
          "text": [
            "The name is Harsh\n"
          ]
        }
      ]
    },
    {
      "cell_type": "markdown",
      "source": [
        "Matrix multiplication"
      ],
      "metadata": {
        "id": "he7WWAjZ7bGy"
      }
    },
    {
      "cell_type": "code",
      "source": [
        "m1 = [[1,2,3],[4,5,6]]\n",
        "m2 = [[7,10],[8,11],[9,12]]\n",
        "\n",
        "p = len(m1) #rows\n",
        "q = len(m1[0]) #columns\n",
        "r = len(m2[0])\n",
        "print(p,q,r)"
      ],
      "metadata": {
        "colab": {
          "base_uri": "https://localhost:8080/"
        },
        "id": "iAQHhhGK7ebK",
        "outputId": "05e81f4e-1da9-4a52-d465-9e96f7414655"
      },
      "execution_count": 21,
      "outputs": [
        {
          "output_type": "stream",
          "name": "stdout",
          "text": [
            "2 3 2\n"
          ]
        }
      ]
    },
    {
      "cell_type": "code",
      "source": [
        "def matmul(m1,m2):\n",
        "\n",
        "  p = len(m1)\n",
        "  q1 = len(m1[0])\n",
        "  q2 = len(m2)\n",
        "  r = len(m2[0])\n",
        "\n",
        "  if q1 == q2:\n",
        "    q = q1\n",
        "\n",
        "    m3row = []\n",
        "    m3 = []\n",
        "\n",
        "    for i in range(p):\n",
        "      for j in range(r):\n",
        "        m3row.append(0)\n",
        "      m3.append(m3row)\n",
        "      m3row = []\n",
        "\n",
        "    #print(m3)\n",
        "\n",
        "    for k in range(p):\n",
        "      for j in range(r):\n",
        "        for i in range(q):\n",
        "          m3[k][j] = m3[k][j] + m1[k][i] * m2[i][j]\n",
        "  else:\n",
        "    print(\"Dimension mismatch\")\n",
        "    return\n",
        "\n",
        "  return m3"
      ],
      "metadata": {
        "id": "eBE8mKpH-kGZ"
      },
      "execution_count": 25,
      "outputs": []
    },
    {
      "cell_type": "code",
      "source": [
        "m1 = [[1,2,3],[4,5,6]] #p,q\n",
        "m2 = [[7,10],[8,11],[9,12]] #q,r\n",
        "\n",
        "result = matmul(m1, m2)\n",
        "\n",
        "print(result)"
      ],
      "metadata": {
        "colab": {
          "base_uri": "https://localhost:8080/"
        },
        "id": "IqsqP6IA-m3t",
        "outputId": "d365d9ed-3525-4b36-9a78-933e52e618ec"
      },
      "execution_count": 26,
      "outputs": [
        {
          "output_type": "stream",
          "name": "stdout",
          "text": [
            "[[50, 68], [122, 167]]\n"
          ]
        }
      ]
    },
    {
      "cell_type": "markdown",
      "source": [
        "***CLASSES IN PYTHON ***"
      ],
      "metadata": {
        "id": "4_CbgCUE_ISn"
      }
    },
    {
      "cell_type": "code",
      "source": [
        "class Book:\n",
        "  category = 'Science'\n",
        "  def print_category(self):\n",
        "    print(\"The category is\",Book.category)\n",
        "\n",
        "book1 = Book()\n",
        "print(book1.category)\n",
        "book1.print_category()"
      ],
      "metadata": {
        "colab": {
          "base_uri": "https://localhost:8080/"
        },
        "id": "FSEeWm0w_MyR",
        "outputId": "37821dbe-b259-42b2-e611-8791187304ae"
      },
      "execution_count": 34,
      "outputs": [
        {
          "output_type": "stream",
          "name": "stdout",
          "text": [
            "Science\n",
            "The category is Science\n"
          ]
        }
      ]
    },
    {
      "cell_type": "code",
      "source": [
        "class Book:\n",
        "  def __init__(self,category):\n",
        "    self.category = category\n",
        "\n",
        "  def print_category(self):\n",
        "      print(\"The category is\",self.category)"
      ],
      "metadata": {
        "id": "_Ys5GBO3AnvB"
      },
      "execution_count": 43,
      "outputs": []
    },
    {
      "cell_type": "code",
      "source": [
        "Book1 = Book(\"Horror\")\n",
        "print(Book1.category)\n",
        "Book1.print_category()"
      ],
      "metadata": {
        "colab": {
          "base_uri": "https://localhost:8080/"
        },
        "id": "kWtCUY-LBXo6",
        "outputId": "e96a0e1a-54b0-40a9-f264-a75bdc7cb718"
      },
      "execution_count": 44,
      "outputs": [
        {
          "output_type": "stream",
          "name": "stdout",
          "text": [
            "Horror\n",
            "The category is Horror\n"
          ]
        }
      ]
    },
    {
      "cell_type": "code",
      "source": [
        "class Book:\n",
        "  def __init__(self,category,title):\n",
        "    self.category = category\n",
        "    self.title = title\n",
        "\n",
        "  def print_category(self):\n",
        "      print(\"The category is\",self.category)\n",
        "      print(\"The title is\",self.title)\n",
        "\n",
        "class eBook(Book):\n",
        "  def __init__(self,category,title,price,size_in_mb):\n",
        "    super().__init__(category,title)\n",
        "    self.price = price\n",
        "    self.size_in_mb = size_in_mb\n",
        "\n",
        "  def print_attributes(self):\n",
        "    print(\"The category is\",self.category)\n",
        "    print(\"The title is\",self.title)\n",
        "    print(\"The price is\",self.price,\"$\")\n",
        "    print(\"The size is\",self.size_in_mb,\"mb\")\n"
      ],
      "metadata": {
        "id": "jUwcmn7XCgyL"
      },
      "execution_count": 53,
      "outputs": []
    },
    {
      "cell_type": "code",
      "source": [
        "Book2 = eBook(\"Productivity\",\"Deepwork\",24,2.2)\n",
        "print(Book2)\n",
        "print(Book2.category)\n",
        "Book2.print_attributes()\n"
      ],
      "metadata": {
        "colab": {
          "base_uri": "https://localhost:8080/"
        },
        "id": "oSpWmJiFDbe-",
        "outputId": "98766bcc-01dd-4491-bb32-1249373e6b97"
      },
      "execution_count": 54,
      "outputs": [
        {
          "output_type": "stream",
          "name": "stdout",
          "text": [
            "<__main__.eBook object at 0x7a2336955c10>\n",
            "Productivity\n",
            "The category is Productivity\n",
            "The title is Deepwork\n",
            "The price is 24 $\n",
            "The size is 2.2 mb\n"
          ]
        }
      ]
    }
  ]
}
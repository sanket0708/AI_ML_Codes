{
  "nbformat": 4,
  "nbformat_minor": 0,
  "metadata": {
    "colab": {
      "provenance": [],
      "authorship_tag": "ABX9TyN67Z0pUdSt182Qxm9TJhlN",
      "include_colab_link": true
    },
    "kernelspec": {
      "name": "python3",
      "display_name": "Python 3"
    },
    "language_info": {
      "name": "python"
    }
  },
  "cells": [
    {
      "cell_type": "markdown",
      "metadata": {
        "id": "view-in-github",
        "colab_type": "text"
      },
      "source": [
        "<a href=\"https://colab.research.google.com/github/sanket0708/AI_ML_Codes/blob/main/PythonAndDS/Python1.ipynb\" target=\"_parent\"><img src=\"https://colab.research.google.com/assets/colab-badge.svg\" alt=\"Open In Colab\"/></a>"
      ]
    },
    {
      "cell_type": "code",
      "execution_count": 1,
      "metadata": {
        "id": "Z74_KycOmQmS",
        "colab": {
          "base_uri": "https://localhost:8080/"
        },
        "outputId": "994db47d-820f-4842-db8b-0ad76cfab5f8"
      },
      "outputs": [
        {
          "output_type": "stream",
          "name": "stdout",
          "text": [
            "Enter your nameSanket\n",
            "Hello Sanket\n"
          ]
        }
      ],
      "source": [
        "your_name = input(\"Enter your name\")\n",
        "print(\"Hello \"+ your_name);"
      ]
    },
    {
      "cell_type": "code",
      "source": [
        "a = input(\"Enter 1st number\")\n",
        "b = input(\"Enter 2nd number\")\n",
        "\n",
        "print(\"Sum is\", int(a)+int(b))\n",
        "print(\"Sum is\", int(a)-int(b))\n",
        "print(\"Sum is\", int(a)*int(b))\n",
        "print(\"Sum is\", int(a)/int(b))"
      ],
      "metadata": {
        "colab": {
          "base_uri": "https://localhost:8080/"
        },
        "id": "_gn4uZ5Or8Fz",
        "outputId": "b84794bc-9c54-438c-c82e-bfb4f1ab8eec"
      },
      "execution_count": 3,
      "outputs": [
        {
          "output_type": "stream",
          "name": "stdout",
          "text": [
            "Enter 1st number10\n",
            "Enter 2nd number2\n",
            "Sum is 12\n",
            "Sum is 8\n",
            "Sum is 20\n",
            "Sum is 5.0\n"
          ]
        }
      ]
    },
    {
      "cell_type": "code",
      "source": [
        "temperature = 1\n",
        "\n",
        "if temperature>25:\n",
        "  print(\"Its a hot day!\")\n",
        "elif temperature<10:\n",
        "  print(\"Its cold!\")\n",
        "else:\n",
        "  print(\"Normal!\")"
      ],
      "metadata": {
        "colab": {
          "base_uri": "https://localhost:8080/"
        },
        "id": "fUojKnkEsrTO",
        "outputId": "61d8af71-506b-4bbd-d364-e952c532f73d"
      },
      "execution_count": 6,
      "outputs": [
        {
          "output_type": "stream",
          "name": "stdout",
          "text": [
            "Its cold!\n"
          ]
        }
      ]
    },
    {
      "cell_type": "code",
      "source": [
        "list1 = [1,2,3,5,6]\n",
        "for item in list1:\n",
        "  print(\"The valuse is =\",item)\n",
        "\n",
        "print(\"In range loop\")\n",
        "\n",
        "for i in range(5):\n",
        "  print(\"The valuse is =\",list1[i])"
      ],
      "metadata": {
        "colab": {
          "base_uri": "https://localhost:8080/"
        },
        "id": "_rauVU5Ls_OM",
        "outputId": "9e7a9d67-6b92-474e-f96a-b060eef87abb"
      },
      "execution_count": 11,
      "outputs": [
        {
          "output_type": "stream",
          "name": "stdout",
          "text": [
            "The valuse is = 1\n",
            "The valuse is = 2\n",
            "The valuse is = 3\n",
            "The valuse is = 5\n",
            "The valuse is = 6\n",
            "In range loop\n",
            "The valuse is = 1\n",
            "The valuse is = 2\n",
            "The valuse is = 3\n",
            "The valuse is = 5\n",
            "The valuse is = 6\n"
          ]
        }
      ]
    },
    {
      "cell_type": "code",
      "source": [
        "def print_name(name):\n",
        "  print(\"The name is\",name)\n",
        "\n",
        "print_name(\"Harsh\")"
      ],
      "metadata": {
        "colab": {
          "base_uri": "https://localhost:8080/"
        },
        "id": "Btcea5XFtcgm",
        "outputId": "a8a9f6d6-58a9-480d-bf40-42b4b72444eb"
      },
      "execution_count": 16,
      "outputs": [
        {
          "output_type": "stream",
          "name": "stdout",
          "text": [
            "The name is Harsh\n"
          ]
        }
      ]
    }
  ]
}
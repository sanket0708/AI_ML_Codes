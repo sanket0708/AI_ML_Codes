{
  "nbformat": 4,
  "nbformat_minor": 0,
  "metadata": {
    "colab": {
      "provenance": [],
      "authorship_tag": "ABX9TyOTyi8sFvHvuZWYsNW8Y17G",
      "include_colab_link": true
    },
    "kernelspec": {
      "name": "python3",
      "display_name": "Python 3"
    },
    "language_info": {
      "name": "python"
    }
  },
  "cells": [
    {
      "cell_type": "markdown",
      "metadata": {
        "id": "view-in-github",
        "colab_type": "text"
      },
      "source": [
        "<a href=\"https://colab.research.google.com/github/sanket0708/AI_ML_Codes/blob/main/PythonAndDS/Numpy.ipynb\" target=\"_parent\"><img src=\"https://colab.research.google.com/assets/colab-badge.svg\" alt=\"Open In Colab\"/></a>"
      ]
    },
    {
      "cell_type": "code",
      "execution_count": 1,
      "metadata": {
        "colab": {
          "base_uri": "https://localhost:8080/"
        },
        "id": "kU8I3Nc1Nb0C",
        "outputId": "f29624bf-9deb-411e-e35f-e81ffad4411c"
      },
      "outputs": [
        {
          "output_type": "stream",
          "name": "stdout",
          "text": [
            "Hello my name is Sanket\n"
          ]
        }
      ],
      "source": [
        "def print_name(name):\n",
        "  print(\"Hello my name is\",name)\n",
        "\n",
        "print_name(\"Sanket\")"
      ]
    },
    {
      "cell_type": "code",
      "source": [
        "for i in range(10):\n",
        "  if (i+1)%2==0:\n",
        "    print(i+1)\n"
      ],
      "metadata": {
        "colab": {
          "base_uri": "https://localhost:8080/"
        },
        "id": "MUEP619FOL8O",
        "outputId": "160e8a21-3c06-43c1-facd-303c56ecb77b"
      },
      "execution_count": 6,
      "outputs": [
        {
          "output_type": "stream",
          "name": "stdout",
          "text": [
            "2\n",
            "4\n",
            "6\n",
            "8\n",
            "10\n"
          ]
        }
      ]
    },
    {
      "cell_type": "code",
      "source": [
        "a = [1,2,3]\n",
        "b = [4,5,6]\n",
        "\n",
        "for i in range(len(a)):\n",
        "  print(a[i] * b[i])"
      ],
      "metadata": {
        "colab": {
          "base_uri": "https://localhost:8080/"
        },
        "id": "A9vTSssmOq87",
        "outputId": "a808a97c-44fc-439a-de5e-5336fb76b320"
      },
      "execution_count": 7,
      "outputs": [
        {
          "output_type": "stream",
          "name": "stdout",
          "text": [
            "4\n",
            "10\n",
            "18\n"
          ]
        }
      ]
    },
    {
      "cell_type": "code",
      "source": [
        "import numpy as np\n",
        "a = np.array([1,2,3])\n",
        "b = np.array([4,5,6])\n",
        "c = np.array([[1,2,3],[4,5,6]])\n",
        "\n",
        "# d = [1,2,3]\n",
        "# d = d*2\n",
        "# print(d)\n",
        "\n",
        "a = a*2  # 2 4 6\n",
        "b = b+2 #6 7 8\n",
        "print(a)\n",
        "print(b)\n",
        "\n",
        "np.sqrt(25)\n"
      ],
      "metadata": {
        "colab": {
          "base_uri": "https://localhost:8080/"
        },
        "id": "F3T4LUdXQNl2",
        "outputId": "6b1c694a-0c03-4625-c70b-d61c4449fe25"
      },
      "execution_count": 15,
      "outputs": [
        {
          "output_type": "stream",
          "name": "stdout",
          "text": [
            "[2 4 6]\n",
            "[6 7 8]\n"
          ]
        },
        {
          "output_type": "execute_result",
          "data": {
            "text/plain": [
              "np.float64(5.0)"
            ]
          },
          "metadata": {},
          "execution_count": 15
        }
      ]
    },
    {
      "cell_type": "code",
      "source": [
        "print(a[0])\n",
        "print(c[0][2])"
      ],
      "metadata": {
        "colab": {
          "base_uri": "https://localhost:8080/"
        },
        "id": "ihoceWCiRVPt",
        "outputId": "14ffd840-68d8-4c8b-97d5-5dcd55261cb5"
      },
      "execution_count": 21,
      "outputs": [
        {
          "output_type": "stream",
          "name": "stdout",
          "text": [
            "2\n",
            "3\n"
          ]
        }
      ]
    },
    {
      "cell_type": "code",
      "source": [
        "d = np.array([1,2,3,4,5,6])\n",
        "d = np.reshape(d,(2,3))\n",
        "print(d)\n",
        "\n",
        "print(np.sum(d,axis=0)) #axis = 0 means column , axis = 1 means row\n",
        "print(np.sum(d,axis=1))"
      ],
      "metadata": {
        "colab": {
          "base_uri": "https://localhost:8080/"
        },
        "id": "IuqXUj-4SqZr",
        "outputId": "ecb1ae68-1e83-4f9c-99b6-cb117d193481"
      },
      "execution_count": 30,
      "outputs": [
        {
          "output_type": "stream",
          "name": "stdout",
          "text": [
            "[[1 2 3]\n",
            " [4 5 6]]\n",
            "[5 7 9]\n",
            "[ 6 15]\n"
          ]
        }
      ]
    },
    {
      "cell_type": "code",
      "source": [
        "#MINI CHALLENGE\n",
        "\n",
        "a = np.array([[30,70,95],[83,68,79],[91,39,45],[90,90,3],[80,81,82]])\n",
        "\n",
        "mean_scores = np.mean(a,axis=1)\n",
        "\n",
        "print(mean_scores)\n",
        "print(np.where(mean_scores == max(mean_scores))[0][0])\n",
        "\n",
        "subject_top_score = np.max(a,axis=0)\n",
        "print(subject_top_score)\n",
        "\n",
        "print(np.argmax(a,axis=0)) #returns the index of the maximum"
      ],
      "metadata": {
        "colab": {
          "base_uri": "https://localhost:8080/"
        },
        "id": "LXvmjHG4WG__",
        "outputId": "1a5f8cca-5ed3-4a69-968d-6683364223bf"
      },
      "execution_count": 43,
      "outputs": [
        {
          "output_type": "stream",
          "name": "stdout",
          "text": [
            "[65.         76.66666667 58.33333333 61.         81.        ]\n",
            "4\n",
            "[91 90 95]\n",
            "[2 3 0]\n"
          ]
        }
      ]
    }
  ]
}
{
  "nbformat": 4,
  "nbformat_minor": 0,
  "metadata": {
    "colab": {
      "provenance": [],
      "authorship_tag": "ABX9TyPi2DnZduNdP8vKQZ4DC8yA",
      "include_colab_link": true
    },
    "kernelspec": {
      "name": "python3",
      "display_name": "Python 3"
    },
    "language_info": {
      "name": "python"
    }
  },
  "cells": [
    {
      "cell_type": "markdown",
      "metadata": {
        "id": "view-in-github",
        "colab_type": "text"
      },
      "source": [
        "<a href=\"https://colab.research.google.com/github/sanket0708/AI_ML_Codes/blob/main/PythonAndDS/Pandas.ipynb\" target=\"_parent\"><img src=\"https://colab.research.google.com/assets/colab-badge.svg\" alt=\"Open In Colab\"/></a>"
      ]
    },
    {
      "cell_type": "code",
      "execution_count": 2,
      "metadata": {
        "colab": {
          "base_uri": "https://localhost:8080/"
        },
        "id": "u4IC0R0NO__e",
        "outputId": "c6d87be2-9f64-4dc8-9a3e-8ed98e447ae4"
      },
      "outputs": [
        {
          "output_type": "stream",
          "name": "stdout",
          "text": [
            "75\n",
            "  student_name  math_scores  biology_scores  cs_scores\n",
            "0        Akash           79              54         84\n",
            "1        Rajat           82              67         85\n",
            "---------------\n",
            "0    Akash\n",
            "1    Rajat\n",
            "Name: student_name, dtype: object\n",
            "Rajat\n"
          ]
        }
      ],
      "source": [
        "import pandas as pd\n",
        "\n",
        "pd_series1 = pd.Series([75,92,88],index=[\"Maths\",\"Biology\",\"CS\"])\n",
        "\n",
        "print(pd_series1[\"Maths\"])\n",
        "\n",
        "pd_dataframe1 = pd.DataFrame({\n",
        "    'student_name' : ['Akash','Rajat'],\n",
        "    'math_scores' : [79,82],\n",
        "    'biology_scores' : [54,67],\n",
        "    'cs_scores' : [84,85]\n",
        "\n",
        "})\n",
        "\n",
        "print(pd_dataframe1)\n",
        "\n",
        "print(\"---------------\")\n",
        "\n",
        "print(pd_dataframe1['student_name'])\n",
        "print(pd_dataframe1['student_name'][1])"
      ]
    },
    {
      "cell_type": "code",
      "source": [
        "pd_series2 = pd.Series([1,2,3,4])\n",
        "print(pd_series2[1]) # print 2\n",
        "\n",
        "pd_series3 = pd.Series([75,92,88],index=[\"Maths\",\"Biology\",\"CS\"])\n",
        "print(pd_series3['Maths']) #print 75\n",
        "\n",
        "dict1 = {'Maths':89 , 'Biology':92 , 'CS':88}\n",
        "pd_series4 = pd.Series(dict1)\n",
        "print(pd_series4['Maths']) #print 89\n",
        "\n",
        "pd_series5 = pd.Series([5,6,7,8]);\n",
        "pd_series6 = pd_series5*2\n",
        "print(pd_series6)\n",
        "print(pd_series6.mean())\n"
      ],
      "metadata": {
        "colab": {
          "base_uri": "https://localhost:8080/"
        },
        "id": "QrhvLIENVl_c",
        "outputId": "144f4d7a-e008-4985-b9a5-d20373e5f6ba"
      },
      "execution_count": 3,
      "outputs": [
        {
          "output_type": "stream",
          "name": "stdout",
          "text": [
            "2\n",
            "75\n",
            "89\n",
            "0    10\n",
            "1    12\n",
            "2    14\n",
            "3    16\n",
            "dtype: int64\n",
            "13.0\n"
          ]
        }
      ]
    },
    {
      "cell_type": "code",
      "source": [
        "df1 = pd.DataFrame({\n",
        "    \"name\" : [\"Alice\",\"bob\",\"carol\"],\n",
        "    \"city\" : [\"bangkok\",\"delhi\",\"jaipur\"],\n",
        "    \"height\" : [175,179,181]\n",
        "})\n",
        "\n",
        "print(df1[\"name\"])\n"
      ],
      "metadata": {
        "colab": {
          "base_uri": "https://localhost:8080/"
        },
        "id": "OO7WoGGug21x",
        "outputId": "f5ad17c9-e89d-46c0-b961-37e2371149ac"
      },
      "execution_count": 4,
      "outputs": [
        {
          "output_type": "stream",
          "name": "stdout",
          "text": [
            "0    Alice\n",
            "1      bob\n",
            "2    carol\n",
            "Name: name, dtype: object\n"
          ]
        }
      ]
    },
    {
      "cell_type": "code",
      "source": [
        "dataset = pd.read_csv(\"https://raw.githubusercontent.com/mwaskom/seaborn-data/master/iris.csv\")"
      ],
      "metadata": {
        "id": "fbxi_RXmMmn6"
      },
      "execution_count": 6,
      "outputs": []
    },
    {
      "cell_type": "code",
      "source": [
        "print(dataset.head())\n",
        "print(\"------------------------\")\n",
        "print(dataset.describe())\n",
        "print(\"------------------------\")\n",
        "print(dataset.info())\n",
        "print(\"------------------------\")\n",
        "print(dataset['species'])\n",
        "print(\"------------------------\")\n",
        "print(dataset[['species','sepal_length','sepal_width']])\n",
        "print(\"------------------------\")\n",
        "print(dataset.iloc[0]) #row by index position\n",
        "print(\"------------------------\")\n",
        "print(dataset.loc[0]) #we can use labels in loc\n",
        "print(\"------------------------\")\n",
        "print(dataset.iloc[0:3])"
      ],
      "metadata": {
        "colab": {
          "base_uri": "https://localhost:8080/"
        },
        "id": "n2s0EV1iM708",
        "outputId": "6ff061ae-7fb0-4a61-a185-50df3907628d"
      },
      "execution_count": 24,
      "outputs": [
        {
          "output_type": "stream",
          "name": "stdout",
          "text": [
            "   sepal_length  sepal_width  petal_length  petal_width species\n",
            "0           5.1          3.5           1.4          0.2  setosa\n",
            "1           4.9          3.0           1.4          0.2  setosa\n",
            "2           4.7          3.2           1.3          0.2  setosa\n",
            "3           4.6          3.1           1.5          0.2  setosa\n",
            "4           5.0          3.6           1.4          0.2  setosa\n",
            "------------------------\n",
            "       sepal_length  sepal_width  petal_length  petal_width\n",
            "count    150.000000   150.000000    150.000000   150.000000\n",
            "mean       5.843333     3.057333      3.758000     1.199333\n",
            "std        0.828066     0.435866      1.765298     0.762238\n",
            "min        4.300000     2.000000      1.000000     0.100000\n",
            "25%        5.100000     2.800000      1.600000     0.300000\n",
            "50%        5.800000     3.000000      4.350000     1.300000\n",
            "75%        6.400000     3.300000      5.100000     1.800000\n",
            "max        7.900000     4.400000      6.900000     2.500000\n",
            "------------------------\n",
            "<class 'pandas.core.frame.DataFrame'>\n",
            "RangeIndex: 150 entries, 0 to 149\n",
            "Data columns (total 5 columns):\n",
            " #   Column        Non-Null Count  Dtype  \n",
            "---  ------        --------------  -----  \n",
            " 0   sepal_length  150 non-null    float64\n",
            " 1   sepal_width   150 non-null    float64\n",
            " 2   petal_length  150 non-null    float64\n",
            " 3   petal_width   150 non-null    float64\n",
            " 4   species       150 non-null    object \n",
            "dtypes: float64(4), object(1)\n",
            "memory usage: 6.0+ KB\n",
            "None\n",
            "------------------------\n",
            "0         setosa\n",
            "1         setosa\n",
            "2         setosa\n",
            "3         setosa\n",
            "4         setosa\n",
            "         ...    \n",
            "145    virginica\n",
            "146    virginica\n",
            "147    virginica\n",
            "148    virginica\n",
            "149    virginica\n",
            "Name: species, Length: 150, dtype: object\n",
            "------------------------\n",
            "       species  sepal_length  sepal_width\n",
            "0       setosa           5.1          3.5\n",
            "1       setosa           4.9          3.0\n",
            "2       setosa           4.7          3.2\n",
            "3       setosa           4.6          3.1\n",
            "4       setosa           5.0          3.6\n",
            "..         ...           ...          ...\n",
            "145  virginica           6.7          3.0\n",
            "146  virginica           6.3          2.5\n",
            "147  virginica           6.5          3.0\n",
            "148  virginica           6.2          3.4\n",
            "149  virginica           5.9          3.0\n",
            "\n",
            "[150 rows x 3 columns]\n",
            "------------------------\n",
            "sepal_length       5.1\n",
            "sepal_width        3.5\n",
            "petal_length       1.4\n",
            "petal_width        0.2\n",
            "species         setosa\n",
            "Name: 0, dtype: object\n",
            "------------------------\n",
            "sepal_length       5.1\n",
            "sepal_width        3.5\n",
            "petal_length       1.4\n",
            "petal_width        0.2\n",
            "species         setosa\n",
            "Name: 0, dtype: object\n",
            "------------------------\n",
            "   sepal_length  sepal_width  petal_length  petal_width species\n",
            "0           5.1          3.5           1.4          0.2  setosa\n",
            "1           4.9          3.0           1.4          0.2  setosa\n",
            "2           4.7          3.2           1.3          0.2  setosa\n"
          ]
        }
      ]
    },
    {
      "cell_type": "code",
      "source": [
        "print(dataset[(dataset['sepal_length']>6) & (dataset['species']=='setosa')])"
      ],
      "metadata": {
        "colab": {
          "base_uri": "https://localhost:8080/"
        },
        "id": "6A1ZWDZpPkup",
        "outputId": "2326f8c6-c18b-4ade-d5ca-a3cd48ad1f9a"
      },
      "execution_count": 29,
      "outputs": [
        {
          "output_type": "stream",
          "name": "stdout",
          "text": [
            "Empty DataFrame\n",
            "Columns: [sepal_length, sepal_width, petal_length, petal_width, species]\n",
            "Index: []\n"
          ]
        }
      ]
    },
    {
      "cell_type": "code",
      "source": [
        "print(dataset[(dataset['sepal_length']>6) & (dataset['species']=='virginica')])"
      ],
      "metadata": {
        "colab": {
          "base_uri": "https://localhost:8080/"
        },
        "id": "-qw_uZMKP-1e",
        "outputId": "71f57c92-8ebc-42f7-82bb-52b9c6791984"
      },
      "execution_count": 30,
      "outputs": [
        {
          "output_type": "stream",
          "name": "stdout",
          "text": [
            "     sepal_length  sepal_width  petal_length  petal_width    species\n",
            "100           6.3          3.3           6.0          2.5  virginica\n",
            "102           7.1          3.0           5.9          2.1  virginica\n",
            "103           6.3          2.9           5.6          1.8  virginica\n",
            "104           6.5          3.0           5.8          2.2  virginica\n",
            "105           7.6          3.0           6.6          2.1  virginica\n",
            "107           7.3          2.9           6.3          1.8  virginica\n",
            "108           6.7          2.5           5.8          1.8  virginica\n",
            "109           7.2          3.6           6.1          2.5  virginica\n",
            "110           6.5          3.2           5.1          2.0  virginica\n",
            "111           6.4          2.7           5.3          1.9  virginica\n",
            "112           6.8          3.0           5.5          2.1  virginica\n",
            "115           6.4          3.2           5.3          2.3  virginica\n",
            "116           6.5          3.0           5.5          1.8  virginica\n",
            "117           7.7          3.8           6.7          2.2  virginica\n",
            "118           7.7          2.6           6.9          2.3  virginica\n",
            "120           6.9          3.2           5.7          2.3  virginica\n",
            "122           7.7          2.8           6.7          2.0  virginica\n",
            "123           6.3          2.7           4.9          1.8  virginica\n",
            "124           6.7          3.3           5.7          2.1  virginica\n",
            "125           7.2          3.2           6.0          1.8  virginica\n",
            "126           6.2          2.8           4.8          1.8  virginica\n",
            "127           6.1          3.0           4.9          1.8  virginica\n",
            "128           6.4          2.8           5.6          2.1  virginica\n",
            "129           7.2          3.0           5.8          1.6  virginica\n",
            "130           7.4          2.8           6.1          1.9  virginica\n",
            "131           7.9          3.8           6.4          2.0  virginica\n",
            "132           6.4          2.8           5.6          2.2  virginica\n",
            "133           6.3          2.8           5.1          1.5  virginica\n",
            "134           6.1          2.6           5.6          1.4  virginica\n",
            "135           7.7          3.0           6.1          2.3  virginica\n",
            "136           6.3          3.4           5.6          2.4  virginica\n",
            "137           6.4          3.1           5.5          1.8  virginica\n",
            "139           6.9          3.1           5.4          2.1  virginica\n",
            "140           6.7          3.1           5.6          2.4  virginica\n",
            "141           6.9          3.1           5.1          2.3  virginica\n",
            "143           6.8          3.2           5.9          2.3  virginica\n",
            "144           6.7          3.3           5.7          2.5  virginica\n",
            "145           6.7          3.0           5.2          2.3  virginica\n",
            "146           6.3          2.5           5.0          1.9  virginica\n",
            "147           6.5          3.0           5.2          2.0  virginica\n",
            "148           6.2          3.4           5.4          2.3  virginica\n"
          ]
        }
      ]
    },
    {
      "cell_type": "code",
      "source": [
        "dataset['sepal_ratio'] = dataset['sepal_length'] / dataset['sepal_width']\n",
        "print(dataset.head())"
      ],
      "metadata": {
        "colab": {
          "base_uri": "https://localhost:8080/"
        },
        "id": "7b82t8ZnQwHZ",
        "outputId": "c106777d-e3f2-483c-9423-9b4f68bc4b65"
      },
      "execution_count": 32,
      "outputs": [
        {
          "output_type": "stream",
          "name": "stdout",
          "text": [
            "   sepal_length  sepal_width  petal_length  petal_width species  sepal_ratio\n",
            "0           5.1          3.5           1.4          0.2  setosa     1.457143\n",
            "1           4.9          3.0           1.4          0.2  setosa     1.633333\n",
            "2           4.7          3.2           1.3          0.2  setosa     1.468750\n",
            "3           4.6          3.1           1.5          0.2  setosa     1.483871\n",
            "4           5.0          3.6           1.4          0.2  setosa     1.388889\n"
          ]
        }
      ]
    }
  ]
}
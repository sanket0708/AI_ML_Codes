{
  "nbformat": 4,
  "nbformat_minor": 0,
  "metadata": {
    "colab": {
      "provenance": [],
      "authorship_tag": "ABX9TyOeV9LxMRnNCyqgwjY/9r2T",
      "include_colab_link": true
    },
    "kernelspec": {
      "name": "python3",
      "display_name": "Python 3"
    },
    "language_info": {
      "name": "python"
    }
  },
  "cells": [
    {
      "cell_type": "markdown",
      "metadata": {
        "id": "view-in-github",
        "colab_type": "text"
      },
      "source": [
        "<a href=\"https://colab.research.google.com/github/sanket0708/AI_ML_Codes/blob/main/PythonAndDS/Pandas.ipynb\" target=\"_parent\"><img src=\"https://colab.research.google.com/assets/colab-badge.svg\" alt=\"Open In Colab\"/></a>"
      ]
    },
    {
      "cell_type": "code",
      "execution_count": 12,
      "metadata": {
        "colab": {
          "base_uri": "https://localhost:8080/"
        },
        "id": "u4IC0R0NO__e",
        "outputId": "eb48f2c7-3ed5-4268-d3f3-667494bbe773"
      },
      "outputs": [
        {
          "output_type": "stream",
          "name": "stdout",
          "text": [
            "75\n",
            "  student_name  math_scores  biology_scores  cs_scores\n",
            "0        Akash           79              54         84\n",
            "1        Rajat           82              67         85\n",
            "---------------\n",
            "0    Akash\n",
            "1    Rajat\n",
            "Name: student_name, dtype: object\n",
            "Rajat\n"
          ]
        }
      ],
      "source": [
        "import pandas as pd\n",
        "\n",
        "pd_series1 = pd.Series([75,92,88],index=[\"Maths\",\"Biology\",\"CS\"])\n",
        "\n",
        "print(pd_series1[\"Maths\"])\n",
        "\n",
        "pd_dataframe1 = pd.DataFrame({\n",
        "    'student_name' : ['Akash','Rajat'],\n",
        "    'math_scores' : [79,82],\n",
        "    'biology_scores' : [54,67],\n",
        "    'cs_scores' : [84,85]\n",
        "\n",
        "})\n",
        "\n",
        "print(pd_dataframe1)\n",
        "\n",
        "print(\"---------------\")\n",
        "\n",
        "print(pd_dataframe1['student_name'])\n",
        "print(pd_dataframe1['student_name'][1])"
      ]
    },
    {
      "cell_type": "code",
      "source": [
        "pd_series2 = pd.Series([1,2,3,4])\n",
        "print(pd_series2[1]) # print 2\n",
        "\n",
        "pd_series3 = pd.Series([75,92,88],index=[\"Maths\",\"Biology\",\"CS\"])\n",
        "print(pd_series3['Maths']) #print 75\n",
        "\n",
        "dict1 = {'Maths':89 , 'Biology':92 , 'CS':88}\n",
        "pd_series4 = pd.Series(dict1)\n",
        "print(pd_series4['Maths']) #print 89\n",
        "\n",
        "pd_series5 = pd.Series([5,6,7,8]);\n",
        "pd_series6 = pd_series5*2\n",
        "print(pd_series6)\n",
        "print(pd_series6.mean())\n"
      ],
      "metadata": {
        "colab": {
          "base_uri": "https://localhost:8080/"
        },
        "id": "QrhvLIENVl_c",
        "outputId": "3c290e7c-8834-4969-a533-b5ba19f5615c"
      },
      "execution_count": 18,
      "outputs": [
        {
          "output_type": "stream",
          "name": "stdout",
          "text": [
            "2\n",
            "75\n",
            "89\n",
            "0    10\n",
            "1    12\n",
            "2    14\n",
            "3    16\n",
            "dtype: int64\n",
            "13.0\n"
          ]
        }
      ]
    },
    {
      "cell_type": "code",
      "source": [
        "df1 = pd.DataFrame({\n",
        "    \"name\" : [\"Alice\",\"bob\",\"carol\"],\n",
        "    \"city\" : [\"bangkok\",\"delhi\",\"jaipur\"],\n",
        "    \"height\" : [175,179,181]\n",
        "})\n",
        "\n",
        "print(df1[\"name\"])\n"
      ],
      "metadata": {
        "colab": {
          "base_uri": "https://localhost:8080/"
        },
        "id": "OO7WoGGug21x",
        "outputId": "feb4d395-ac0e-4560-e68d-8b7f1df3c7dd"
      },
      "execution_count": 19,
      "outputs": [
        {
          "output_type": "stream",
          "name": "stdout",
          "text": [
            "0    Alice\n",
            "1      bob\n",
            "2    carol\n",
            "Name: name, dtype: object\n"
          ]
        }
      ]
    }
  ]
}